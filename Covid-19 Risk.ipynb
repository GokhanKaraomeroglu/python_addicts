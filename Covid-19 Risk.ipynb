age = False # can be assigned only True/False
chronic = False # can be assigned only True/False
immune = False # can be assigned only True/False
risk = age or chronic or immune
if risk==True:
     print ("You are in risky group")
else:
     print ("You are not in risky group")
